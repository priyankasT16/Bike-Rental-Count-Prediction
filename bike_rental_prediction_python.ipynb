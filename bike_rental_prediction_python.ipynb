{
 "cells": [
  {
   "cell_type": "code",
   "execution_count": 3,
   "metadata": {},
   "outputs": [
    {
     "data": {
      "text/plain": [
       "(731, 16)"
      ]
     },
     "execution_count": 3,
     "metadata": {},
     "output_type": "execute_result"
    }
   ],
   "source": [
    "import os\n",
    "import pandas as pd\n",
    "\n",
    "os.chdir('F:\\\\Edwisor\\\\edwisor exercise\\\\project\\\\python')\n",
    "os.getcwd()\n",
    "data_bike=pd.read_csv('day.csv')\n",
    "data_bike.dtypes\n",
    "data_bike=pd.DataFrame(data_bike)\n",
    "data_bike.shape\n"
   ]
  },
  {
   "cell_type": "code",
   "execution_count": 4,
   "metadata": {},
   "outputs": [],
   "source": [
    "####### EDA #############\n",
    "data_bike['dteday']=pd.to_datetime(data_bike.dteday)\n",
    "data_bike['season']=data_bike.season.astype('category')\n",
    "data_bike['holiday']=data_bike.holiday.astype('category')\n",
    "data_bike['yr']=data_bike.yr.astype('category')\n",
    "data_bike['mnth']=data_bike.mnth.astype('category')\n",
    "data_bike['workingday']=data_bike.workingday.astype('category')\n",
    "data_bike['weathersit']=data_bike.weathersit.astype('category')\n",
    "data_bike['mnth']=data_bike.mnth.astype('category')\n",
    "data_bike['weekday']=data_bike.weekday.astype('category')"
   ]
  },
  {
   "cell_type": "code",
   "execution_count": null,
   "metadata": {},
   "outputs": [],
   "source": [
    "########## missing value analysis #########\n",
    "#data_bike.dtypes\n",
    "data_bike.isnull().sum()"
   ]
  },
  {
   "cell_type": "code",
   "execution_count": null,
   "metadata": {},
   "outputs": [],
   "source": [
    "###Outlier ananlysis\n",
    "import matplotlib.pyplot as pt\n",
    "import seaborn as sb\n",
    "figure,axis=pt.subplots(figsize=(8,8))\n",
    "sb.boxplot(data=data_bike[['temp','hum','windspeed']])\n",
    "axis.set_title('outliers from temp,hum,wind')\n",
    "pt.show()\n",
    "sb.boxplot(data=data_bike['cnt'])\n",
    "axis.set_title('count outliers')\n",
    "pt.show()"
   ]
  },
  {
   "cell_type": "code",
   "execution_count": null,
   "metadata": {},
   "outputs": [],
   "source": [
    "##remove outliers\n",
    "import numpy as np\n",
    "df=pd.DataFrame(data_bike,columns=['hum','windspeed'])\n",
    "c=['hum','windspeed']\n",
    "for i in c:\n",
    "    q75,q25=np.percentile(df.loc[:,i],[75,25])\n",
    "    iqr=q75-q25\n",
    "    min=q25-(iqr*1.5)\n",
    "    max=q75+(iqr*1.5)\n",
    "    df.loc[df.loc[:,i]<min,:i]=np.nan\n",
    "    df.loc[df.loc[:,i]>max,:i]=np.nan\n",
    "\n",
    "df.isnull().sum()\n",
    "df['windspeed']=df['windspeed'].fillna(df['windspeed'].mean())\n",
    "df['hum']=df['hum'].fillna(df['hum'].mean())\n",
    "df.isnull().sum()"
   ]
  },
  {
   "cell_type": "code",
   "execution_count": null,
   "metadata": {},
   "outputs": [],
   "source": [
    "data_bike['windspeed']=df['windspeed']\n",
    "data_bike['hum']=df['hum']\n",
    "figure,axis=pt.subplots(figsize=(8,8))\n",
    "sb.boxplot(data=data_bike[['temp','hum','windspeed']])\n",
    "axis.set_title('outliers from temp,hum,wind')\n",
    "pt.show()\n",
    "sb.boxplot(data=data_bike['cnt'])\n",
    "axis.set_title('count outliers')\n",
    "pt.show()\n"
   ]
  },
  {
   "cell_type": "code",
   "execution_count": null,
   "metadata": {},
   "outputs": [],
   "source": [
    "correMtr=data_bike[[\"temp\",\"atemp\",\"hum\",\"windspeed\",\"casual\",\"registered\",\"cnt\"]].corr()\n",
    "mask=np.array(correMtr)\n",
    "mask[np.tril_indices_from(mask)]=False\n",
    "sb.heatmap(correMtr,mask=mask,annot=True)\n",
    "pt.show()"
   ]
  },
  {
   "cell_type": "code",
   "execution_count": null,
   "metadata": {},
   "outputs": [],
   "source": [
    "###feature selection\n",
    "data_bike.dtypes\n",
    "bike=pd.DataFrame(data_bike,columns=['season','yr','mnth','weekday','workingday','weathersit','temp','hum','windspeed','cnt'])\n",
    "bike.shape"
   ]
  },
  {
   "cell_type": "code",
   "execution_count": null,
   "metadata": {},
   "outputs": [],
   "source": [
    "#from sklearn.cross_validation import train_test_split\n",
    "from sklearn.model_selection import train_test_split\n",
    "train, test = train_test_split(bike, test_size=0.2)\n",
    "train.shape\n",
    "test.shape"
   ]
  },
  {
   "cell_type": "code",
   "execution_count": null,
   "metadata": {},
   "outputs": [],
   "source": [
    "#import statsmodels.api as sm\n",
    "from sklearn import preprocessing,metrics,linear_model\n",
    "from sklearn.model_selection import cross_val_score,cross_val_predict,train_test_split\n",
    "#bike.shape\n",
    "#mlr = sm.OLS(train.iloc[:,8], train.iloc[:,0:8]).fit()\n",
    "lr_model=linear_model.LinearRegression()\n",
    "lr_model.fit(train.iloc[:,0:8],train.iloc[:,-1])"
   ]
  },
  {
   "cell_type": "code",
   "execution_count": null,
   "metadata": {},
   "outputs": [],
   "source": [
    "lr=lr_model.score(train.iloc[:,0:8],train.iloc[:,-1])\n",
    "print('Accuracy of the model :',lr)\n",
    "print('Model coefficients :',lr_model.coef_)\n",
    "print('Model intercept value :',lr_model.intercept_)"
   ]
  },
  {
   "cell_type": "code",
   "execution_count": null,
   "metadata": {},
   "outputs": [],
   "source": [
    "predict_lr=lr_model.predict(test.iloc[:,0:8])\n",
    "def MAPE(y_true, y_pred): \n",
    "    mape = np.mean(np.abs((y_true - y_pred) / y_true))*100\n",
    "    return mape\n",
    "#Calculate MAPE\n",
    "MAPE(test.iloc[:,9], predict_lr)"
   ]
  },
  {
   "cell_type": "code",
   "execution_count": null,
   "metadata": {},
   "outputs": [],
   "source": [
    "from sklearn.ensemble import RandomForestRegressor\n",
    "rf=RandomForestRegressor(n_estimators=200)"
   ]
  },
  {
   "cell_type": "code",
   "execution_count": null,
   "metadata": {},
   "outputs": [],
   "source": [
    "rf.fit(train.iloc[:,0:8],train.iloc[:,-1])\n",
    "rf.score(train.iloc[:,0:8],train.iloc[:,-1])\n"
   ]
  },
  {
   "cell_type": "code",
   "execution_count": null,
   "metadata": {},
   "outputs": [],
   "source": [
    "predict_rf=rf.predict(test.iloc[:,0:8])\n",
    "MAPE(test.iloc[:,9], predict_rf)"
   ]
  },
  {
   "cell_type": "code",
   "execution_count": null,
   "metadata": {},
   "outputs": [],
   "source": [
    "op_actual=pd.DataFrame(test.iloc[:,9],columns=['cnt'])\n",
    "#op_actual\n",
    "op_rf=pd.DataFrame(predict_rf,columns=['predicted value by Rf'])\n",
    "op_rf\n",
    "#op_lr=pd.DataFrame(predict_lr,columns=['predicted value by Lr'])\n",
    "op_actual=op_actual.reset_index()\n",
    "op_actual=op_actual['cnt']\n",
    "op_actual\n",
    "opf_rf=pd.merge(op_actual,op_rf,left_index=True,right_index=True)\n",
    "opf_rf\n",
    "#op_rf\n",
    "#opf_lr=pd.merge(op_actual,op_lr,left_index=True,right_index=True)\n",
    "#print(opf_lr)\n",
    "#print(opf_rf)\n",
    "opf_rf.to_csv('output_python.csv',index=None,header=True)"
   ]
  }
 ],
 "metadata": {
  "kernelspec": {
   "display_name": "Python 3",
   "language": "python",
   "name": "python3"
  },
  "language_info": {
   "codemirror_mode": {
    "name": "ipython",
    "version": 3
   },
   "file_extension": ".py",
   "mimetype": "text/x-python",
   "name": "python",
   "nbconvert_exporter": "python",
   "pygments_lexer": "ipython3",
   "version": "3.7.3"
  }
 },
 "nbformat": 4,
 "nbformat_minor": 2
}
